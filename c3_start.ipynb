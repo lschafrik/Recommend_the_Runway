{
 "cells": [
  {
   "cell_type": "code",
   "execution_count": 1,
   "metadata": {
    "colab": {},
    "colab_type": "code",
    "id": "UF-7KKYpIqoy"
   },
   "outputs": [],
   "source": [
    "import warnings\n",
    "warnings.filterwarnings('ignore')\n",
    "\n",
    "import math\n",
    "import numpy as np\n",
    "import pandas as pd\n",
    "from collections import Counter\n",
    "\n",
    "import matplotlib.pyplot as plt\n",
    "plt.style.use('ggplot')\n",
    "%matplotlib inline"
   ]
  },
  {
   "cell_type": "code",
   "execution_count": 2,
   "metadata": {
    "colab": {},
    "colab_type": "code",
    "id": "pLQE0_Q1JS29"
   },
   "outputs": [],
   "source": [
    "from sklearn.metrics.pairwise import cosine_similarity"
   ]
  },
  {
   "cell_type": "code",
   "execution_count": 3,
   "metadata": {
    "colab": {},
    "colab_type": "code",
    "id": "MuFb5b8NO4Ck"
   },
   "outputs": [],
   "source": [
    "# import pre-cleaned data\n",
    "\n",
    "base_df = pd.read_csv('data/rtr_data.csv')\n",
    "base_df.drop(columns='Unnamed: 0', inplace=True) # damn this mistake\n",
    "base_df.dropna(inplace=True) # for the review-summary data"
   ]
  },
  {
   "cell_type": "code",
   "execution_count": 4,
   "metadata": {
    "colab": {
     "base_uri": "https://localhost:8080/",
     "height": 34
    },
    "colab_type": "code",
    "executionInfo": {
     "elapsed": 3053,
     "status": "ok",
     "timestamp": 1582579931015,
     "user": {
      "displayName": "Lauren Abigail",
      "photoUrl": "https://lh3.googleusercontent.com/a-/AAuE7mCytXw8tBZqOnfqkupuBMPxSuhkK671XVDGA-vW=s64",
      "userId": "08354593442246429525"
     },
     "user_tz": 300
    },
    "id": "VPxiRG5sQAj_",
    "outputId": "9d2cfbd4-343e-445a-e351-aae573ef16cc"
   },
   "outputs": [
    {
     "data": {
      "text/plain": [
       "'unique items: 5734, unique users: 77237'"
      ]
     },
     "execution_count": 4,
     "metadata": {},
     "output_type": "execute_result"
    }
   ],
   "source": [
    "f'unique items: {len(base_df[\"item_id\"].unique())}, unique users: {len(base_df[\"user_id\"].unique())}'"
   ]
  },
  {
   "cell_type": "code",
   "execution_count": 5,
   "metadata": {
    "colab": {},
    "colab_type": "code",
    "id": "6wQKbZCJWK1W"
   },
   "outputs": [],
   "source": [
    "# user_id, item_id, rating\n",
    "\n",
    "base_rating_df = base_df[['user_id', 'item_id', 'rating']]"
   ]
  },
  {
   "cell_type": "code",
   "execution_count": 6,
   "metadata": {
    "colab": {
     "base_uri": "https://localhost:8080/",
     "height": 419
    },
    "colab_type": "code",
    "executionInfo": {
     "elapsed": 3027,
     "status": "ok",
     "timestamp": 1582579931016,
     "user": {
      "displayName": "Lauren Abigail",
      "photoUrl": "https://lh3.googleusercontent.com/a-/AAuE7mCytXw8tBZqOnfqkupuBMPxSuhkK671XVDGA-vW=s64",
      "userId": "08354593442246429525"
     },
     "user_tz": 300
    },
    "id": "ODrslYvfXEHO",
    "outputId": "cee44266-fbc3-406b-a927-87c324924339"
   },
   "outputs": [
    {
     "data": {
      "text/html": [
       "<div>\n",
       "<style scoped>\n",
       "    .dataframe tbody tr th:only-of-type {\n",
       "        vertical-align: middle;\n",
       "    }\n",
       "\n",
       "    .dataframe tbody tr th {\n",
       "        vertical-align: top;\n",
       "    }\n",
       "\n",
       "    .dataframe thead th {\n",
       "        text-align: right;\n",
       "    }\n",
       "</style>\n",
       "<table border=\"1\" class=\"dataframe\">\n",
       "  <thead>\n",
       "    <tr style=\"text-align: right;\">\n",
       "      <th></th>\n",
       "      <th>user_id</th>\n",
       "      <th>item_id</th>\n",
       "      <th>rating</th>\n",
       "    </tr>\n",
       "  </thead>\n",
       "  <tbody>\n",
       "    <tr>\n",
       "      <th>0</th>\n",
       "      <td>420272</td>\n",
       "      <td>2260466</td>\n",
       "      <td>10.0</td>\n",
       "    </tr>\n",
       "    <tr>\n",
       "      <th>1</th>\n",
       "      <td>273551</td>\n",
       "      <td>153475</td>\n",
       "      <td>10.0</td>\n",
       "    </tr>\n",
       "    <tr>\n",
       "      <th>2</th>\n",
       "      <td>909926</td>\n",
       "      <td>126335</td>\n",
       "      <td>8.0</td>\n",
       "    </tr>\n",
       "    <tr>\n",
       "      <th>3</th>\n",
       "      <td>151944</td>\n",
       "      <td>616682</td>\n",
       "      <td>10.0</td>\n",
       "    </tr>\n",
       "    <tr>\n",
       "      <th>4</th>\n",
       "      <td>734848</td>\n",
       "      <td>364092</td>\n",
       "      <td>8.0</td>\n",
       "    </tr>\n",
       "    <tr>\n",
       "      <th>...</th>\n",
       "      <td>...</td>\n",
       "      <td>...</td>\n",
       "      <td>...</td>\n",
       "    </tr>\n",
       "    <tr>\n",
       "      <th>146132</th>\n",
       "      <td>66386</td>\n",
       "      <td>2252812</td>\n",
       "      <td>10.0</td>\n",
       "    </tr>\n",
       "    <tr>\n",
       "      <th>146133</th>\n",
       "      <td>118398</td>\n",
       "      <td>682043</td>\n",
       "      <td>10.0</td>\n",
       "    </tr>\n",
       "    <tr>\n",
       "      <th>146134</th>\n",
       "      <td>47002</td>\n",
       "      <td>683251</td>\n",
       "      <td>6.0</td>\n",
       "    </tr>\n",
       "    <tr>\n",
       "      <th>146135</th>\n",
       "      <td>961120</td>\n",
       "      <td>126335</td>\n",
       "      <td>10.0</td>\n",
       "    </tr>\n",
       "    <tr>\n",
       "      <th>146136</th>\n",
       "      <td>123612</td>\n",
       "      <td>127865</td>\n",
       "      <td>10.0</td>\n",
       "    </tr>\n",
       "  </tbody>\n",
       "</table>\n",
       "<p>146137 rows × 3 columns</p>\n",
       "</div>"
      ],
      "text/plain": [
       "        user_id  item_id  rating\n",
       "0        420272  2260466    10.0\n",
       "1        273551   153475    10.0\n",
       "2        909926   126335     8.0\n",
       "3        151944   616682    10.0\n",
       "4        734848   364092     8.0\n",
       "...         ...      ...     ...\n",
       "146132    66386  2252812    10.0\n",
       "146133   118398   682043    10.0\n",
       "146134    47002   683251     6.0\n",
       "146135   961120   126335    10.0\n",
       "146136   123612   127865    10.0\n",
       "\n",
       "[146137 rows x 3 columns]"
      ]
     },
     "execution_count": 6,
     "metadata": {},
     "output_type": "execute_result"
    }
   ],
   "source": [
    "base_rating_df"
   ]
  },
  {
   "cell_type": "code",
   "execution_count": null,
   "metadata": {
    "colab": {},
    "colab_type": "code",
    "id": "ky7rsXDAXGhr"
   },
   "outputs": [],
   "source": [
    "base_rating_utility = base_rating_df.pivot_table(values='rating', index='user_id', columns='item_id')\n",
    "base_rating_utility.fillna(base_rating_utility.mean(), inplace=True)"
   ]
  },
  {
   "cell_type": "code",
   "execution_count": null,
   "metadata": {
    "colab": {
     "base_uri": "https://localhost:8080/",
     "height": 470
    },
    "colab_type": "code",
    "executionInfo": {
     "elapsed": 19499,
     "status": "ok",
     "timestamp": 1582579947512,
     "user": {
      "displayName": "Lauren Abigail",
      "photoUrl": "https://lh3.googleusercontent.com/a-/AAuE7mCytXw8tBZqOnfqkupuBMPxSuhkK671XVDGA-vW=s64",
      "userId": "08354593442246429525"
     },
     "user_tz": 300
    },
    "id": "Yon02V9hXeEZ",
    "outputId": "91876193-cc55-4c3e-a470-80b3388aeee7"
   },
   "outputs": [],
   "source": [
    "base_rating_utility"
   ]
  },
  {
   "cell_type": "code",
   "execution_count": null,
   "metadata": {
    "colab": {
     "base_uri": "https://localhost:8080/",
     "height": 34
    },
    "colab_type": "code",
    "executionInfo": {
     "elapsed": 22255,
     "status": "ok",
     "timestamp": 1582579950288,
     "user": {
      "displayName": "Lauren Abigail",
      "photoUrl": "https://lh3.googleusercontent.com/a-/AAuE7mCytXw8tBZqOnfqkupuBMPxSuhkK671XVDGA-vW=s64",
      "userId": "08354593442246429525"
     },
     "user_tz": 300
    },
    "id": "lMOQxoXyXlz9",
    "outputId": "899686a6-02a3-4b05-eb56-4d0b532c5371"
   },
   "outputs": [],
   "source": [
    "itemid = 2953681\n",
    "\n",
    "temp = cosine_similarity(base_rating_utility[itemid].values.reshape(1,-1), base_rating_utility.T)\n",
    "sim_item_id = np.argsort(temp)[0][::-1][:10]\n",
    "sim_item_id"
   ]
  },
  {
   "cell_type": "code",
   "execution_count": null,
   "metadata": {
    "colab": {
     "base_uri": "https://localhost:8080/",
     "height": 34
    },
    "colab_type": "code",
    "executionInfo": {
     "elapsed": 22243,
     "status": "ok",
     "timestamp": 1582579950289,
     "user": {
      "displayName": "Lauren Abigail",
      "photoUrl": "https://lh3.googleusercontent.com/a-/AAuE7mCytXw8tBZqOnfqkupuBMPxSuhkK671XVDGA-vW=s64",
      "userId": "08354593442246429525"
     },
     "user_tz": 300
    },
    "id": "GLF3UCibZCnA",
    "outputId": "86f231f3-0bf0-4c50-99c2-79ff86191693"
   },
   "outputs": [],
   "source": [
    "base_df.iloc[4326]['category']"
   ]
  },
  {
   "cell_type": "code",
   "execution_count": null,
   "metadata": {
    "colab": {
     "base_uri": "https://localhost:8080/",
     "height": 187
    },
    "colab_type": "code",
    "executionInfo": {
     "elapsed": 22232,
     "status": "ok",
     "timestamp": 1582579950289,
     "user": {
      "displayName": "Lauren Abigail",
      "photoUrl": "https://lh3.googleusercontent.com/a-/AAuE7mCytXw8tBZqOnfqkupuBMPxSuhkK671XVDGA-vW=s64",
      "userId": "08354593442246429525"
     },
     "user_tz": 300
    },
    "id": "eYe1ek0cZJKL",
    "outputId": "55dcc081-eb6f-4776-8547-338e924b1d22"
   },
   "outputs": [],
   "source": [
    "cat_lst = []\n",
    "\n",
    "for idx in sim_item_id:\n",
    "  cat_lst.append(base_df.iloc[idx]['category'])\n",
    "\n",
    "cat_lst"
   ]
  },
  {
   "cell_type": "code",
   "execution_count": null,
   "metadata": {
    "colab": {},
    "colab_type": "code",
    "id": "5n1hgkp5awWr"
   },
   "outputs": [],
   "source": [
    "# some sort of random choice; 60% of the time it's okay to recommend dress,gown,sheath, 40% recommend the other options\n",
    "# since it's expected to rent a number of garments at a time, top 'n' picks but only let 50% be dress,gown,sheath\n",
    "# refer to Capstone II to use review-summary keywords, category, rented_for, body_type for item-item recommender"
   ]
  },
  {
   "cell_type": "code",
   "execution_count": null,
   "metadata": {
    "colab": {},
    "colab_type": "code",
    "id": "ff6GwyznzJMZ"
   },
   "outputs": [],
   "source": [
    "# get_dummies function\n",
    "\n",
    "def get_dummies(df, lst):\n",
    "  result = []\n",
    "  for col in lst:\n",
    "    temp = pd.get_dummies(df[col])\n",
    "    result.append(temp)\n",
    "  return pd.concat(result, axis=1)"
   ]
  },
  {
   "cell_type": "code",
   "execution_count": null,
   "metadata": {
    "colab": {},
    "colab_type": "code",
    "id": "TD5N58pm1L96"
   },
   "outputs": [],
   "source": [
    "get_dummies_list = ['category', 'rented_for', 'body_type']\n",
    "basedf_dummies = get_dummies(base_df, get_dummies_list)"
   ]
  },
  {
   "cell_type": "code",
   "execution_count": null,
   "metadata": {
    "colab": {
     "base_uri": "https://localhost:8080/",
     "height": 456
    },
    "colab_type": "code",
    "executionInfo": {
     "elapsed": 22357,
     "status": "ok",
     "timestamp": 1582579950447,
     "user": {
      "displayName": "Lauren Abigail",
      "photoUrl": "https://lh3.googleusercontent.com/a-/AAuE7mCytXw8tBZqOnfqkupuBMPxSuhkK671XVDGA-vW=s64",
      "userId": "08354593442246429525"
     },
     "user_tz": 300
    },
    "id": "mCSGQREcfhvp",
    "outputId": "a0c322fd-e6e2-45b5-d3d5-ef9fc890b0d1"
   },
   "outputs": [],
   "source": [
    "basedf_dummies"
   ]
  },
  {
   "cell_type": "code",
   "execution_count": null,
   "metadata": {
    "colab": {},
    "colab_type": "code",
    "id": "nD9cs7sR2IVb"
   },
   "outputs": [],
   "source": [
    "# one hot encoder?\n",
    "\n",
    "item_dummy = pd.concat([base_df['item_id'], basedf_dummies], axis=1)"
   ]
  },
  {
   "cell_type": "code",
   "execution_count": null,
   "metadata": {
    "colab": {},
    "colab_type": "code",
    "id": "wWzyTySa8CIX"
   },
   "outputs": [],
   "source": [
    "item_dummy.replace(0,2, inplace=True)"
   ]
  },
  {
   "cell_type": "code",
   "execution_count": null,
   "metadata": {
    "colab": {},
    "colab_type": "code",
    "id": "unwFV5Ly8-Mm"
   },
   "outputs": [],
   "source": [
    "item_bools = item_dummy.groupby('item_id').min()"
   ]
  },
  {
   "cell_type": "code",
   "execution_count": null,
   "metadata": {
    "colab": {
     "base_uri": "https://localhost:8080/",
     "height": 487
    },
    "colab_type": "code",
    "executionInfo": {
     "elapsed": 332,
     "status": "ok",
     "timestamp": 1582581737875,
     "user": {
      "displayName": "Lauren Abigail",
      "photoUrl": "https://lh3.googleusercontent.com/a-/AAuE7mCytXw8tBZqOnfqkupuBMPxSuhkK671XVDGA-vW=s64",
      "userId": "08354593442246429525"
     },
     "user_tz": 300
    },
    "id": "MkrsskzTIWhf",
    "outputId": "03e6f8a3-e4f1-4cc6-fc61-c474f66598c9"
   },
   "outputs": [],
   "source": [
    "item_bools.replace(2,0, inplace=True)\n",
    "item_bools"
   ]
  },
  {
   "cell_type": "code",
   "execution_count": null,
   "metadata": {
    "colab": {
     "base_uri": "https://localhost:8080/",
     "height": 238
    },
    "colab_type": "code",
    "executionInfo": {
     "elapsed": 522,
     "status": "ok",
     "timestamp": 1582580437777,
     "user": {
      "displayName": "Lauren Abigail",
      "photoUrl": "https://lh3.googleusercontent.com/a-/AAuE7mCytXw8tBZqOnfqkupuBMPxSuhkK671XVDGA-vW=s64",
      "userId": "08354593442246429525"
     },
     "user_tz": 300
    },
    "id": "boJHTgyTIWkK",
    "outputId": "9ee249d1-b946-4458-d4b6-970b69eee70f"
   },
   "outputs": [],
   "source": [
    "# cosine_similarity(item_bools)"
   ]
  },
  {
   "cell_type": "code",
   "execution_count": null,
   "metadata": {
    "colab": {
     "base_uri": "https://localhost:8080/",
     "height": 470
    },
    "colab_type": "code",
    "executionInfo": {
     "elapsed": 742,
     "status": "ok",
     "timestamp": 1582581741341,
     "user": {
      "displayName": "Lauren Abigail",
      "photoUrl": "https://lh3.googleusercontent.com/a-/AAuE7mCytXw8tBZqOnfqkupuBMPxSuhkK671XVDGA-vW=s64",
      "userId": "08354593442246429525"
     },
     "user_tz": 300
    },
    "id": "WsWKijiXJSLd",
    "outputId": "0cf0bee8-8555-476e-b2f9-bbb1e9429424"
   },
   "outputs": [],
   "source": [
    "item_cosine = pd.DataFrame(cosine_similarity(item_bools), index = item_bools.index, columns = item_bools.index)\n",
    "item_cosine"
   ]
  },
  {
   "cell_type": "code",
   "execution_count": null,
   "metadata": {
    "colab": {
     "base_uri": "https://localhost:8080/",
     "height": 187
    },
    "colab_type": "code",
    "executionInfo": {
     "elapsed": 308,
     "status": "ok",
     "timestamp": 1582581970359,
     "user": {
      "displayName": "Lauren Abigail",
      "photoUrl": "https://lh3.googleusercontent.com/a-/AAuE7mCytXw8tBZqOnfqkupuBMPxSuhkK671XVDGA-vW=s64",
      "userId": "08354593442246429525"
     },
     "user_tz": 300
    },
    "id": "7HBI08CzJSOV",
    "outputId": "c7791ea8-0c64-45c7-d514-0891c819925a"
   },
   "outputs": [],
   "source": [
    "test3 = list(item_cosine[item_cosine[2953965] < 0.99][2953965].sort_values(ascending=False).head(10).index)\n",
    "test3"
   ]
  },
  {
   "cell_type": "code",
   "execution_count": null,
   "metadata": {
    "colab": {
     "base_uri": "https://localhost:8080/",
     "height": 323
    },
    "colab_type": "code",
    "executionInfo": {
     "elapsed": 337,
     "status": "ok",
     "timestamp": 1582582001782,
     "user": {
      "displayName": "Lauren Abigail",
      "photoUrl": "https://lh3.googleusercontent.com/a-/AAuE7mCytXw8tBZqOnfqkupuBMPxSuhkK671XVDGA-vW=s64",
      "userId": "08354593442246429525"
     },
     "user_tz": 300
    },
    "id": "4dOCXvaC-eAF",
    "outputId": "1e9536d2-33d2-4a44-b40f-594837a4b6e5"
   },
   "outputs": [],
   "source": [
    "base_df[base_df['item_id'] == 2134815].iloc[0]"
   ]
  },
  {
   "cell_type": "code",
   "execution_count": null,
   "metadata": {
    "colab": {},
    "colab_type": "code",
    "id": "5PuWdMyuOq5f"
   },
   "outputs": [],
   "source": []
  }
 ],
 "metadata": {
  "accelerator": "GPU",
  "colab": {
   "authorship_tag": "ABX9TyOX2ocGCz1FQJHO61xTmhdW",
   "collapsed_sections": [],
   "machine_shape": "hm",
   "mount_file_id": "16olyityBu1YmL-xvD7YhTcwGEIs2JSas",
   "name": "c3_start.ipynb",
   "provenance": []
  },
  "kernelspec": {
   "display_name": "Python 3",
   "language": "python",
   "name": "python3"
  },
  "language_info": {
   "codemirror_mode": {
    "name": "ipython",
    "version": 3
   },
   "file_extension": ".py",
   "mimetype": "text/x-python",
   "name": "python",
   "nbconvert_exporter": "python",
   "pygments_lexer": "ipython3",
   "version": "3.7.3"
  }
 },
 "nbformat": 4,
 "nbformat_minor": 4
}
