{
 "cells": [
  {
   "cell_type": "code",
   "execution_count": 2,
   "metadata": {
    "colab": {},
    "colab_type": "code",
    "id": "P6MuS4tcr5tY"
   },
   "outputs": [],
   "source": [
    "import warnings\n",
    "warnings.filterwarnings('ignore')\n",
    "\n",
    "import math\n",
    "import numpy as np\n",
    "import pandas as pd\n",
    "from collections import Counter\n",
    "\n",
    "import matplotlib.pyplot as plt\n",
    "plt.style.use('ggplot')\n",
    "%matplotlib inline"
   ]
  },
  {
   "cell_type": "code",
   "execution_count": 3,
   "metadata": {
    "colab": {},
    "colab_type": "code",
    "id": "a6zG2MmGsBri"
   },
   "outputs": [],
   "source": [
    "from sklearn.model_selection import train_test_split\n",
    "from sklearn.preprocessing import MultiLabelBinarizer\n",
    "from sklearn.metrics.pairwise import cosine_similarity\n",
    "from sklearn.feature_extraction.text import CountVectorizer, TfidfVectorizer"
   ]
  },
  {
   "cell_type": "code",
   "execution_count": 4,
   "metadata": {
    "colab": {},
    "colab_type": "code",
    "id": "Y_Z-FZUgsI_G"
   },
   "outputs": [],
   "source": [
    "import pyspark as ps\n",
    "from pyspark.sql import SparkSession\n",
    "from pyspark.ml.recommendation import ALS\n",
    "from pyspark.ml.evaluation import RegressionEvaluator\n",
    "from pyspark.sql import Row\n",
    "\n",
    "# Setup a SparkSession\n",
    "spark = SparkSession.builder.getOrCreate()\n",
    "sc = spark.sparkContext"
   ]
  },
  {
   "cell_type": "code",
   "execution_count": 5,
   "metadata": {
    "colab": {
     "base_uri": "https://localhost:8080/",
     "height": 193
    },
    "colab_type": "code",
    "executionInfo": {
     "elapsed": 10272,
     "status": "ok",
     "timestamp": 1582590301158,
     "user": {
      "displayName": "Lauren Abigail",
      "photoUrl": "https://lh3.googleusercontent.com/a-/AAuE7mCytXw8tBZqOnfqkupuBMPxSuhkK671XVDGA-vW=s64",
      "userId": "08354593442246429525"
     },
     "user_tz": 300
    },
    "id": "oAeUQ_CnsMY1",
    "outputId": "035f6f37-a305-457e-a7db-e90f917ff419"
   },
   "outputs": [
    {
     "data": {
      "text/html": [
       "\n",
       "        <div>\n",
       "            <p><b>SparkContext</b></p>\n",
       "\n",
       "            <p><a href=\"http://db5b81568cf3:4040\">Spark UI</a></p>\n",
       "\n",
       "            <dl>\n",
       "              <dt>Version</dt>\n",
       "                <dd><code>v2.4.4</code></dd>\n",
       "              <dt>Master</dt>\n",
       "                <dd><code>local[*]</code></dd>\n",
       "              <dt>AppName</dt>\n",
       "                <dd><code>pyspark-shell</code></dd>\n",
       "            </dl>\n",
       "        </div>\n",
       "        "
      ],
      "text/plain": [
       "<SparkContext master=local[*] appName=pyspark-shell>"
      ]
     },
     "execution_count": 5,
     "metadata": {},
     "output_type": "execute_result"
    }
   ],
   "source": [
    "sc"
   ]
  },
  {
   "cell_type": "code",
   "execution_count": 6,
   "metadata": {
    "colab": {},
    "colab_type": "code",
    "id": "ZRsN6JrjshTY"
   },
   "outputs": [],
   "source": [
    "base_df = pd.read_csv('data/rtr_data.csv')\n",
    "base_df.drop(columns='Unnamed: 0', inplace=True)"
   ]
  },
  {
   "cell_type": "code",
   "execution_count": 7,
   "metadata": {
    "colab": {
     "base_uri": "https://localhost:8080/",
     "height": 1000
    },
    "colab_type": "code",
    "executionInfo": {
     "elapsed": 12320,
     "status": "ok",
     "timestamp": 1582590303219,
     "user": {
      "displayName": "Lauren Abigail",
      "photoUrl": "https://lh3.googleusercontent.com/a-/AAuE7mCytXw8tBZqOnfqkupuBMPxSuhkK671XVDGA-vW=s64",
      "userId": "08354593442246429525"
     },
     "user_tz": 300
    },
    "id": "uwmJJVCqsv6w",
    "outputId": "c7f02cbd-23e1-4914-d2b7-6c3c95c4976c"
   },
   "outputs": [
    {
     "data": {
      "text/html": [
       "<div>\n",
       "<style scoped>\n",
       "    .dataframe tbody tr th:only-of-type {\n",
       "        vertical-align: middle;\n",
       "    }\n",
       "\n",
       "    .dataframe tbody tr th {\n",
       "        vertical-align: top;\n",
       "    }\n",
       "\n",
       "    .dataframe thead th {\n",
       "        text-align: right;\n",
       "    }\n",
       "</style>\n",
       "<table border=\"1\" class=\"dataframe\">\n",
       "  <thead>\n",
       "    <tr style=\"text-align: right;\">\n",
       "      <th></th>\n",
       "      <th>fit</th>\n",
       "      <th>user_id</th>\n",
       "      <th>bust_size</th>\n",
       "      <th>item_id</th>\n",
       "      <th>weight_lbs</th>\n",
       "      <th>rating</th>\n",
       "      <th>rented_for</th>\n",
       "      <th>review_text</th>\n",
       "      <th>body_type</th>\n",
       "      <th>review_summary</th>\n",
       "      <th>category</th>\n",
       "      <th>height_inches</th>\n",
       "      <th>size</th>\n",
       "      <th>age</th>\n",
       "      <th>review_date</th>\n",
       "      <th>review-summary</th>\n",
       "      <th>keywords</th>\n",
       "    </tr>\n",
       "  </thead>\n",
       "  <tbody>\n",
       "    <tr>\n",
       "      <th>0</th>\n",
       "      <td>fit</td>\n",
       "      <td>420272</td>\n",
       "      <td>34d</td>\n",
       "      <td>2260466</td>\n",
       "      <td>137</td>\n",
       "      <td>10.0</td>\n",
       "      <td>vacation</td>\n",
       "      <td>An adorable romper! Belt and zipper were a lit...</td>\n",
       "      <td>hourglass</td>\n",
       "      <td>So many compliments!</td>\n",
       "      <td>romper</td>\n",
       "      <td>68.0</td>\n",
       "      <td>14</td>\n",
       "      <td>28.0</td>\n",
       "      <td>2016-04-20</td>\n",
       "      <td>An adorable romper! Belt and zipper were a lit...</td>\n",
       "      <td>['adorable', 'romper', 'belt', 'zipper', 'litt...</td>\n",
       "    </tr>\n",
       "    <tr>\n",
       "      <th>1</th>\n",
       "      <td>fit</td>\n",
       "      <td>273551</td>\n",
       "      <td>34b</td>\n",
       "      <td>153475</td>\n",
       "      <td>132</td>\n",
       "      <td>10.0</td>\n",
       "      <td>other</td>\n",
       "      <td>I rented this dress for a photo shoot. The the...</td>\n",
       "      <td>straight &amp; narrow</td>\n",
       "      <td>I felt so glamourous!!!</td>\n",
       "      <td>gown</td>\n",
       "      <td>66.0</td>\n",
       "      <td>12</td>\n",
       "      <td>36.0</td>\n",
       "      <td>2013-06-18</td>\n",
       "      <td>I rented this dress for a photo shoot. The the...</td>\n",
       "      <td>['photo', 'shoot', 'theme', 'hollywood', 'glam...</td>\n",
       "    </tr>\n",
       "    <tr>\n",
       "      <th>2</th>\n",
       "      <td>fit</td>\n",
       "      <td>909926</td>\n",
       "      <td>34c</td>\n",
       "      <td>126335</td>\n",
       "      <td>135</td>\n",
       "      <td>8.0</td>\n",
       "      <td>formal affair</td>\n",
       "      <td>I rented this for my company's black tie award...</td>\n",
       "      <td>pear</td>\n",
       "      <td>Dress arrived on time and in perfect condition.</td>\n",
       "      <td>dress</td>\n",
       "      <td>65.0</td>\n",
       "      <td>8</td>\n",
       "      <td>34.0</td>\n",
       "      <td>2014-02-12</td>\n",
       "      <td>I rented this for my company's black tie award...</td>\n",
       "      <td>['company', 'black', 'tie', 'awards', 'banquet...</td>\n",
       "    </tr>\n",
       "    <tr>\n",
       "      <th>3</th>\n",
       "      <td>fit</td>\n",
       "      <td>151944</td>\n",
       "      <td>34b</td>\n",
       "      <td>616682</td>\n",
       "      <td>145</td>\n",
       "      <td>10.0</td>\n",
       "      <td>wedding</td>\n",
       "      <td>I have always been petite in my upper body and...</td>\n",
       "      <td>athletic</td>\n",
       "      <td>Was in love with this dress !!!</td>\n",
       "      <td>gown</td>\n",
       "      <td>69.0</td>\n",
       "      <td>12</td>\n",
       "      <td>27.0</td>\n",
       "      <td>2016-09-26</td>\n",
       "      <td>I have always been petite in my upper body and...</td>\n",
       "      <td>['always', 'petite', 'upper', 'body', 'extreme...</td>\n",
       "    </tr>\n",
       "    <tr>\n",
       "      <th>4</th>\n",
       "      <td>fit</td>\n",
       "      <td>734848</td>\n",
       "      <td>32b</td>\n",
       "      <td>364092</td>\n",
       "      <td>138</td>\n",
       "      <td>8.0</td>\n",
       "      <td>date</td>\n",
       "      <td>Didn't actually wear it. It fit perfectly. The...</td>\n",
       "      <td>athletic</td>\n",
       "      <td>Traditional with a touch a sass</td>\n",
       "      <td>dress</td>\n",
       "      <td>68.0</td>\n",
       "      <td>8</td>\n",
       "      <td>45.0</td>\n",
       "      <td>2016-04-30</td>\n",
       "      <td>Didn't actually wear it. It fit perfectly. The...</td>\n",
       "      <td>['actually', 'perfectly', 'fabric', 'little', ...</td>\n",
       "    </tr>\n",
       "    <tr>\n",
       "      <th>...</th>\n",
       "      <td>...</td>\n",
       "      <td>...</td>\n",
       "      <td>...</td>\n",
       "      <td>...</td>\n",
       "      <td>...</td>\n",
       "      <td>...</td>\n",
       "      <td>...</td>\n",
       "      <td>...</td>\n",
       "      <td>...</td>\n",
       "      <td>...</td>\n",
       "      <td>...</td>\n",
       "      <td>...</td>\n",
       "      <td>...</td>\n",
       "      <td>...</td>\n",
       "      <td>...</td>\n",
       "      <td>...</td>\n",
       "      <td>...</td>\n",
       "    </tr>\n",
       "    <tr>\n",
       "      <th>146132</th>\n",
       "      <td>fit</td>\n",
       "      <td>66386</td>\n",
       "      <td>34dd</td>\n",
       "      <td>2252812</td>\n",
       "      <td>140</td>\n",
       "      <td>10.0</td>\n",
       "      <td>work</td>\n",
       "      <td>Fit like a glove!</td>\n",
       "      <td>hourglass</td>\n",
       "      <td>LOVE IT!!! First Item Im thinking of buying!</td>\n",
       "      <td>jumpsuit</td>\n",
       "      <td>69.0</td>\n",
       "      <td>8</td>\n",
       "      <td>42.0</td>\n",
       "      <td>2016-05-18</td>\n",
       "      <td>Fit like a glove! LOVE IT!!! First Item Im thi...</td>\n",
       "      <td>['like', 'glove', 'love', 'first', 'item', 'im...</td>\n",
       "    </tr>\n",
       "    <tr>\n",
       "      <th>146133</th>\n",
       "      <td>fit</td>\n",
       "      <td>118398</td>\n",
       "      <td>32c</td>\n",
       "      <td>682043</td>\n",
       "      <td>100</td>\n",
       "      <td>10.0</td>\n",
       "      <td>work</td>\n",
       "      <td>The pattern contrast on this dress is really s...</td>\n",
       "      <td>petite</td>\n",
       "      <td>LOVE it!</td>\n",
       "      <td>dress</td>\n",
       "      <td>61.0</td>\n",
       "      <td>4</td>\n",
       "      <td>29.0</td>\n",
       "      <td>2016-09-30</td>\n",
       "      <td>The pattern contrast on this dress is really s...</td>\n",
       "      <td>['pattern', 'contrast', 'really', 'stunning', ...</td>\n",
       "    </tr>\n",
       "    <tr>\n",
       "      <th>146134</th>\n",
       "      <td>fit</td>\n",
       "      <td>47002</td>\n",
       "      <td>36a</td>\n",
       "      <td>683251</td>\n",
       "      <td>135</td>\n",
       "      <td>6.0</td>\n",
       "      <td>everyday</td>\n",
       "      <td>Like the other DVF wraps, the fit on this is f...</td>\n",
       "      <td>straight &amp; narrow</td>\n",
       "      <td>Loud patterning, flattering fit</td>\n",
       "      <td>dress</td>\n",
       "      <td>68.0</td>\n",
       "      <td>8</td>\n",
       "      <td>31.0</td>\n",
       "      <td>2016-03-04</td>\n",
       "      <td>Like the other DVF wraps, the fit on this is f...</td>\n",
       "      <td>['like', 'dvf', 'wraps', 'fantastic', 'albeit'...</td>\n",
       "    </tr>\n",
       "    <tr>\n",
       "      <th>146135</th>\n",
       "      <td>fit</td>\n",
       "      <td>961120</td>\n",
       "      <td>36c</td>\n",
       "      <td>126335</td>\n",
       "      <td>165</td>\n",
       "      <td>10.0</td>\n",
       "      <td>wedding</td>\n",
       "      <td>This dress was PERFECTION.  it looked incredib...</td>\n",
       "      <td>pear</td>\n",
       "      <td>loved this dress it was comfortable and photog...</td>\n",
       "      <td>dress</td>\n",
       "      <td>66.0</td>\n",
       "      <td>16</td>\n",
       "      <td>31.0</td>\n",
       "      <td>2015-11-25</td>\n",
       "      <td>This dress was PERFECTION.  it looked incredib...</td>\n",
       "      <td>['perfection', 'looked', 'incredible', 'photos...</td>\n",
       "    </tr>\n",
       "    <tr>\n",
       "      <th>146136</th>\n",
       "      <td>fit</td>\n",
       "      <td>123612</td>\n",
       "      <td>36b</td>\n",
       "      <td>127865</td>\n",
       "      <td>155</td>\n",
       "      <td>10.0</td>\n",
       "      <td>wedding</td>\n",
       "      <td>This dress was wonderful! I had originally pla...</td>\n",
       "      <td>athletic</td>\n",
       "      <td>I wore this to a beautiful black tie optional ...</td>\n",
       "      <td>gown</td>\n",
       "      <td>66.0</td>\n",
       "      <td>16</td>\n",
       "      <td>30.0</td>\n",
       "      <td>2017-08-29</td>\n",
       "      <td>This dress was wonderful! I had originally pla...</td>\n",
       "      <td>['wonderful', 'originally', 'planned', 'bcbg',...</td>\n",
       "    </tr>\n",
       "  </tbody>\n",
       "</table>\n",
       "<p>146137 rows × 17 columns</p>\n",
       "</div>"
      ],
      "text/plain": [
       "        fit  user_id bust_size  item_id  weight_lbs  rating     rented_for  \\\n",
       "0       fit   420272       34d  2260466         137    10.0       vacation   \n",
       "1       fit   273551       34b   153475         132    10.0          other   \n",
       "2       fit   909926       34c   126335         135     8.0  formal affair   \n",
       "3       fit   151944       34b   616682         145    10.0        wedding   \n",
       "4       fit   734848       32b   364092         138     8.0           date   \n",
       "...     ...      ...       ...      ...         ...     ...            ...   \n",
       "146132  fit    66386      34dd  2252812         140    10.0           work   \n",
       "146133  fit   118398       32c   682043         100    10.0           work   \n",
       "146134  fit    47002       36a   683251         135     6.0       everyday   \n",
       "146135  fit   961120       36c   126335         165    10.0        wedding   \n",
       "146136  fit   123612       36b   127865         155    10.0        wedding   \n",
       "\n",
       "                                              review_text          body_type  \\\n",
       "0       An adorable romper! Belt and zipper were a lit...          hourglass   \n",
       "1       I rented this dress for a photo shoot. The the...  straight & narrow   \n",
       "2       I rented this for my company's black tie award...               pear   \n",
       "3       I have always been petite in my upper body and...           athletic   \n",
       "4       Didn't actually wear it. It fit perfectly. The...           athletic   \n",
       "...                                                   ...                ...   \n",
       "146132                                  Fit like a glove!          hourglass   \n",
       "146133  The pattern contrast on this dress is really s...             petite   \n",
       "146134  Like the other DVF wraps, the fit on this is f...  straight & narrow   \n",
       "146135  This dress was PERFECTION.  it looked incredib...               pear   \n",
       "146136  This dress was wonderful! I had originally pla...           athletic   \n",
       "\n",
       "                                           review_summary  category  \\\n",
       "0                                    So many compliments!    romper   \n",
       "1                                 I felt so glamourous!!!      gown   \n",
       "2        Dress arrived on time and in perfect condition.      dress   \n",
       "3                         Was in love with this dress !!!      gown   \n",
       "4                         Traditional with a touch a sass     dress   \n",
       "...                                                   ...       ...   \n",
       "146132       LOVE IT!!! First Item Im thinking of buying!  jumpsuit   \n",
       "146133                                           LOVE it!     dress   \n",
       "146134                    Loud patterning, flattering fit     dress   \n",
       "146135  loved this dress it was comfortable and photog...     dress   \n",
       "146136  I wore this to a beautiful black tie optional ...      gown   \n",
       "\n",
       "        height_inches  size   age review_date  \\\n",
       "0                68.0    14  28.0  2016-04-20   \n",
       "1                66.0    12  36.0  2013-06-18   \n",
       "2                65.0     8  34.0  2014-02-12   \n",
       "3                69.0    12  27.0  2016-09-26   \n",
       "4                68.0     8  45.0  2016-04-30   \n",
       "...               ...   ...   ...         ...   \n",
       "146132           69.0     8  42.0  2016-05-18   \n",
       "146133           61.0     4  29.0  2016-09-30   \n",
       "146134           68.0     8  31.0  2016-03-04   \n",
       "146135           66.0    16  31.0  2015-11-25   \n",
       "146136           66.0    16  30.0  2017-08-29   \n",
       "\n",
       "                                           review-summary  \\\n",
       "0       An adorable romper! Belt and zipper were a lit...   \n",
       "1       I rented this dress for a photo shoot. The the...   \n",
       "2       I rented this for my company's black tie award...   \n",
       "3       I have always been petite in my upper body and...   \n",
       "4       Didn't actually wear it. It fit perfectly. The...   \n",
       "...                                                   ...   \n",
       "146132  Fit like a glove! LOVE IT!!! First Item Im thi...   \n",
       "146133  The pattern contrast on this dress is really s...   \n",
       "146134  Like the other DVF wraps, the fit on this is f...   \n",
       "146135  This dress was PERFECTION.  it looked incredib...   \n",
       "146136  This dress was wonderful! I had originally pla...   \n",
       "\n",
       "                                                 keywords  \n",
       "0       ['adorable', 'romper', 'belt', 'zipper', 'litt...  \n",
       "1       ['photo', 'shoot', 'theme', 'hollywood', 'glam...  \n",
       "2       ['company', 'black', 'tie', 'awards', 'banquet...  \n",
       "3       ['always', 'petite', 'upper', 'body', 'extreme...  \n",
       "4       ['actually', 'perfectly', 'fabric', 'little', ...  \n",
       "...                                                   ...  \n",
       "146132  ['like', 'glove', 'love', 'first', 'item', 'im...  \n",
       "146133  ['pattern', 'contrast', 'really', 'stunning', ...  \n",
       "146134  ['like', 'dvf', 'wraps', 'fantastic', 'albeit'...  \n",
       "146135  ['perfection', 'looked', 'incredible', 'photos...  \n",
       "146136  ['wonderful', 'originally', 'planned', 'bcbg',...  \n",
       "\n",
       "[146137 rows x 17 columns]"
      ]
     },
     "execution_count": 7,
     "metadata": {},
     "output_type": "execute_result"
    }
   ],
   "source": [
    "base_df"
   ]
  },
  {
   "cell_type": "code",
   "execution_count": 8,
   "metadata": {
    "colab": {},
    "colab_type": "code",
    "id": "MvZyCi5ms6gV"
   },
   "outputs": [],
   "source": [
    "ratings_df = base_df[['user_id', 'item_id', 'rating']]"
   ]
  },
  {
   "cell_type": "code",
   "execution_count": 9,
   "metadata": {
    "colab": {},
    "colab_type": "code",
    "id": "LJqJtRbytraM"
   },
   "outputs": [],
   "source": [
    "spark_ratings = spark.createDataFrame(ratings_df)"
   ]
  },
  {
   "cell_type": "code",
   "execution_count": 10,
   "metadata": {
    "colab": {},
    "colab_type": "code",
    "id": "GtGVlu7JtYfq"
   },
   "outputs": [],
   "source": [
    "train, test = spark_ratings.randomSplit([0.7, 0.3])"
   ]
  },
  {
   "cell_type": "code",
   "execution_count": 11,
   "metadata": {
    "colab": {},
    "colab_type": "code",
    "id": "5iAwPdr-touq"
   },
   "outputs": [],
   "source": [
    "als_model = ALS(\n",
    "    itemCol='item_id',\n",
    "    userCol='user_id',\n",
    "    ratingCol='rating',\n",
    "    nonnegative=True,    \n",
    "    regParam=0.75,\n",
    "    rank=5,  # 5\n",
    "    coldStartStrategy='nan')\n",
    "\n",
    "# als_model = ALS(\n",
    "#     itemCol='item_id',\n",
    "#     userCol='user_id',\n",
    "#     ratingCol='rating',\n",
    "#     nonnegative=True,    \n",
    "#     regParam=0.1,\n",
    "#     rank=10) "
   ]
  },
  {
   "cell_type": "code",
   "execution_count": 12,
   "metadata": {
    "colab": {
     "base_uri": "https://localhost:8080/",
     "height": 1000
    },
    "colab_type": "code",
    "executionInfo": {
     "elapsed": 20134,
     "status": "error",
     "timestamp": 1582590311056,
     "user": {
      "displayName": "Lauren Abigail",
      "photoUrl": "https://lh3.googleusercontent.com/a-/AAuE7mCytXw8tBZqOnfqkupuBMPxSuhkK671XVDGA-vW=s64",
      "userId": "08354593442246429525"
     },
     "user_tz": 300
    },
    "id": "4ZGsBKjUuEiJ",
    "outputId": "bd821524-a63d-42f3-b8f0-a6123a20900c"
   },
   "outputs": [],
   "source": [
    "recommender = als_model.fit(train)"
   ]
  },
  {
   "cell_type": "code",
   "execution_count": 15,
   "metadata": {},
   "outputs": [],
   "source": [
    "test_pred = recommender.transform(test)"
   ]
  },
  {
   "cell_type": "code",
   "execution_count": 16,
   "metadata": {},
   "outputs": [
    {
     "name": "stdout",
     "output_type": "stream",
     "text": [
      "+-------+-------+------+----------+\n",
      "|user_id|item_id|rating|prediction|\n",
      "+-------+-------+------+----------+\n",
      "| 371542| 213089|  10.0|  8.717025|\n",
      "|  52229| 213089|   8.0|       NaN|\n",
      "| 768039| 213089|  10.0| 6.8804464|\n",
      "| 752238| 213089|   8.0| 6.8368726|\n",
      "| 818603| 277366|  10.0|  8.974133|\n",
      "| 524777| 277366|  10.0|       NaN|\n",
      "| 712415| 333479|   8.0|  8.570589|\n",
      "| 260350| 333479|  10.0| 7.3483515|\n",
      "| 585785| 333479|  10.0|  8.875811|\n",
      "| 179367| 333479|  10.0|  8.426922|\n",
      "| 214108| 333479|  10.0|   7.37896|\n",
      "| 244376| 640839|  10.0|  9.104555|\n",
      "| 240007| 640839|  10.0|  8.856159|\n",
      "| 996705| 640839|   8.0|       NaN|\n",
      "| 421056| 640839|   8.0|  8.287586|\n",
      "| 366322| 640839|  10.0|  7.327038|\n",
      "| 642748| 640839|  10.0|  9.122535|\n",
      "| 962574| 640839|   8.0|  6.850277|\n",
      "|  70480| 730008|   8.0|  7.952133|\n",
      "| 614722| 730008|  10.0|  8.103798|\n",
      "+-------+-------+------+----------+\n",
      "only showing top 20 rows\n",
      "\n"
     ]
    }
   ],
   "source": [
    "test_pred.show()"
   ]
  },
  {
   "cell_type": "code",
   "execution_count": 17,
   "metadata": {},
   "outputs": [],
   "source": [
    "from sklearn.metrics import mean_squared_error"
   ]
  },
  {
   "cell_type": "code",
   "execution_count": 23,
   "metadata": {},
   "outputs": [],
   "source": [
    "test_true = test_pred.select('rating')\n",
    "true_df = test_true.toPandas()"
   ]
  },
  {
   "cell_type": "code",
   "execution_count": 34,
   "metadata": {},
   "outputs": [],
   "source": [
    "test_predicted = test_pred.select('prediction')\n",
    "pred_df = test_predicted.toPandas()"
   ]
  },
  {
   "cell_type": "code",
   "execution_count": 35,
   "metadata": {},
   "outputs": [],
   "source": [
    "pred_df.fillna(ratings_df['rating'].mean(), inplace=True)"
   ]
  },
  {
   "cell_type": "code",
   "execution_count": 36,
   "metadata": {},
   "outputs": [
    {
     "data": {
      "text/plain": [
       "1.7479125880928894"
      ]
     },
     "execution_count": 36,
     "metadata": {},
     "output_type": "execute_result"
    }
   ],
   "source": [
    "np.sqrt(mean_squared_error(true_df, pred_df))"
   ]
  },
  {
   "cell_type": "code",
   "execution_count": null,
   "metadata": {},
   "outputs": [],
   "source": [
    "# suprise SVD gave 1.39 rmse, gonna go with that"
   ]
  }
 ],
 "metadata": {
  "accelerator": "GPU",
  "colab": {
   "authorship_tag": "ABX9TyNbRN6Oq9ke4chkKP7qLlgs",
   "mount_file_id": "1kRvCM53joml_hz5Pip29e5sCnYmHBbp4",
   "name": "c3_als-spark.ipynb",
   "provenance": []
  },
  "kernelspec": {
   "display_name": "Python 3",
   "language": "python",
   "name": "python3"
  },
  "language_info": {
   "codemirror_mode": {
    "name": "ipython",
    "version": 3
   },
   "file_extension": ".py",
   "mimetype": "text/x-python",
   "name": "python",
   "nbconvert_exporter": "python",
   "pygments_lexer": "ipython3",
   "version": "3.7.3"
  }
 },
 "nbformat": 4,
 "nbformat_minor": 4
}
